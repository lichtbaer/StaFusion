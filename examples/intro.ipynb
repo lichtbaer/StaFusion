{
  "cells": [
    {
      "cell_type": "markdown",
      "metadata": {},
      "source": [
        "# datafusion-ml Intro\n"
      ]
    },
    {
      "cell_type": "code",
      "execution_count": null,
      "metadata": {},
      "outputs": [],
      "source": [
        "import pandas as pd\n",
        "from datafusion_ml import fuse_datasets\n",
        "\n",
        "A = pd.DataFrame({\n",
        "    'age_group': ['18-29','30-44','45-59','60+'],\n",
        "    'income_bracket': ['low','mid','mid','high'],\n",
        "    'education': ['HS','BA','MA','HS'],\n",
        "    'target_only_in_A': [1,0,1,0],\n",
        "})\n",
        "B = pd.DataFrame({\n",
        "    'age_group': ['18-29','30-44','45-59','60+'],\n",
        "    'income_bracket': ['mid','mid','high','low'],\n",
        "    'education': ['HS','BA','HS','PhD'],\n",
        "    'numeric_only_in_B': [3.2,1.5,2.7,4.1],\n",
        "})\n",
        "\n",
        "res = fuse_datasets(A, B, prefer_pycaret=False)\n",
        "res.fused.head()\n",
        "            \n"
      ]
    }
  ],
  "metadata": {
    "kernelspec": {
      "display_name": "Python 3",
      "language": "python",
      "name": "python3"
    },
    "language_info": {
      "name": "python",
      "version": "3.11"
    }
  },
  "nbformat": 4,
  "nbformat_minor": 5
}
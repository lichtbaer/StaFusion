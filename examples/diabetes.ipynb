{
  "cells": [
    {
      "cell_type": "markdown",
      "metadata": {},
      "source": [
        "# Diabetes fusion example\n"
      ]
    },
    {
      "cell_type": "code",
      "execution_count": null,
      "metadata": {},
      "outputs": [],
      "source": [
        "from sklearn.datasets import load_diabetes\n",
        "import numpy as np\n",
        "import pandas as pd\n",
        "from datafusion_ml import fuse_datasets\n",
        "\n",
        "# Prepare A and B\n",
        "data = load_diabetes()\n",
        "X = pd.DataFrame(data.data, columns=data.feature_names)\n",
        "y = pd.Series(data.target, name=\"disease_progression\")\n",
        "\n",
        "# Pick overlap features\n",
        "overlap = [\"bmi\", \"bp\", \"s1\", \"s2\"]\n",
        "A = X[overlap].copy()\n",
        "A[\"disease_progression\"] = y\n",
        "\n",
        "# Synthetic classification target in B\n",
        "rng = np.random.default_rng(7)\n",
        "score = (X[overlap].to_numpy() @ np.array([0.6, 0.2, 0.1, 0.1])) + rng.normal(0, 0.3, size=X.shape[0])\n",
        "threshold = np.median(score)\n",
        "B = X[overlap].copy()\n",
        "B[\"high_risk\"] = (score > threshold).astype(int)\n",
        "\n",
        "# Fuse\n",
        "res = fuse_datasets(A, B, prefer_pycaret=False)\n",
        "res.fused.head()\n",
        "            \n"
      ]
    }
  ],
  "metadata": {
    "kernelspec": {
      "display_name": "Python 3",
      "language": "python",
      "name": "python3"
    },
    "language_info": {
      "name": "python",
      "version": "3.11"
    }
  },
  "nbformat": 4,
  "nbformat_minor": 5
}
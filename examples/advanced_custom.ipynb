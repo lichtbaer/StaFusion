{
  "cells": [
    {
      "cell_type": "markdown",
      "metadata": {},
      "source": [
        "# Advanced: custom overlaps and targets\n"
      ]
    },
    {
      "cell_type": "code",
      "execution_count": null,
      "metadata": {},
      "outputs": [],
      "source": [
        "import pandas as pd\n",
        "from datafusion_ml import fuse_datasets\n",
        "\n",
        "A = pd.DataFrame({\n",
        "    \"age_group\": [\"18-29\",\"30-44\",\"45-59\",\"60+\"],\n",
        "    \"education\": [\"HS\",\"BA\",\"MA\",\"HS\"],\n",
        "    \"income_bracket\": [\"low\",\"mid\",\"mid\",\"high\"],\n",
        "    \"loyalty_segment\": [\"bronze\",\"silver\",\"gold\",\"silver\"],\n",
        "})\n",
        "\n",
        "B = pd.DataFrame({\n",
        "    \"age_group\": [\"18-29\",\"30-44\",\"45-59\",\"60+\"],\n",
        "    \"education\": [\"HS\",\"BA\",\"HS\",\"PhD\"],\n",
        "    \"income_bracket\": [\"mid\",\"mid\",\"high\",\"low\"],\n",
        "    \"spend_score\": [3.2, 1.5, 2.7, 4.1],\n",
        "})\n",
        "\n",
        "overlap = [\"age_group\",\"education\",\"income_bracket\"]\n",
        "\n",
        "res = fuse_datasets(\n",
        "    df_a=A,\n",
        "    df_b=B,\n",
        "    overlap_features=overlap,\n",
        "    targets_from_a=[\"loyalty_segment\"],\n",
        "    targets_from_b=[\"spend_score\"],\n",
        "    prefer_pycaret=False,\n",
        ")\n",
        "\n",
        "res.a_enriched, res.b_enriched\n",
        "            \n"
      ]
    }
  ],
  "metadata": {
    "kernelspec": {
      "display_name": "Python 3",
      "language": "python",
      "name": "python3"
    },
    "language_info": {
      "name": "python",
      "version": "3.11"
    }
  },
  "nbformat": 4,
  "nbformat_minor": 5
}
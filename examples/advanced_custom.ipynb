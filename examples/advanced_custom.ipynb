import pandas as pd
from datafusion_ml import fuse_datasets

A = pd.DataFrame({
    "age_group": ["18-29","30-44","45-59","60+"],
    "education": ["HS","BA","MA","HS"],
    "income_bracket": ["low","mid","mid","high"],
    "loyalty_segment": ["bronze","silver","gold","silver"],
})

B = pd.DataFrame({
    "age_group": ["18-29","30-44","45-59","60+"],
    "education": ["HS","BA","HS","PhD"],
    "income_bracket": ["mid","mid","high","low"],
    "spend_score": [3.2, 1.5, 2.7, 4.1],
})

overlap = ["age_group","education","income_bracket"]

res = fuse_datasets(
    df_a=A,
    df_b=B,
    overlap_features=overlap,
    targets_from_a=["loyalty_segment"],
    targets_from_b=["spend_score"],
    prefer_pycaret=False,
)

res.a_enriched, res.b_enriched# Advanced: custom overlaps and targets

Manually specify overlap features and targets for A->B and B->A.
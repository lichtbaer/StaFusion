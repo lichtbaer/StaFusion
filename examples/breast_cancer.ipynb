from sklearn.datasets import load_breast_cancer
import numpy as np
import pandas as pd
from datafusion_ml import fuse_datasets

# Prepare A and B
data = load_breast_cancer(as_frame=True)
df = data.frame.rename(columns={"target": "diagnosis"})
overlap = ["mean radius", "mean texture", "mean perimeter", "mean smoothness"]
A = df[overlap + ["diagnosis"]].copy()

rng = np.random.default_rng(42)
weights = np.array([0.5, 0.2, 0.2, 0.1])
base = A[overlap].to_numpy() @ weights
noise = rng.normal(0.0, 0.5, size=base.shape[0])
B = df[overlap].copy()
B["risk_score"] = base + noise

# Fuse
a2b = fuse_datasets(A, B)
a2b.fused.head()# Breast Cancer fusion example

Fuse two datasets derived from sklearn's breast cancer dataset using overlapping features.
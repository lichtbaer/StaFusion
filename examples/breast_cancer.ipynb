{
 "cells": [
  {
   "cell_type": "markdown",
   "id": "7fb27b941602401d91542211134fc71a",
   "metadata": {},
   "source": [
    "# Breast Cancer fusion example\n"
   ]
  },
  {
   "cell_type": "code",
   "execution_count": null,
   "id": "acae54e37e7d407bbb7b55eff062a284",
   "metadata": {},
   "outputs": [],
   "source": [
    "from sklearn.datasets import load_breast_cancer\n",
    "import numpy as np\n",
    "from datafusion_ml import fuse_datasets\n",
    "\n",
    "# Prepare A and B\n",
    "data = load_breast_cancer(as_frame=True)\n",
    "df = data.frame.rename(columns={\"target\": \"diagnosis\"})\n",
    "overlap = [\"mean radius\", \"mean texture\", \"mean perimeter\", \"mean smoothness\"]\n",
    "A = df[overlap + [\"diagnosis\"]].copy()\n",
    "\n",
    "rng = np.random.default_rng(42)\n",
    "weights = np.array([0.5, 0.2, 0.2, 0.1])\n",
    "base = A[overlap].to_numpy() @ weights\n",
    "noise = rng.normal(0.0, 0.5, size=base.shape[0])\n",
    "B = df[overlap].copy()\n",
    "B[\"risk_score\"] = base + noise\n",
    "\n",
    "# Fuse\n",
    "a2b = fuse_datasets(A, B)\n",
    "a2b.fused.head()\n",
    "            \n"
   ]
  }
 ],
 "metadata": {
  "kernelspec": {
   "display_name": "Python 3",
   "language": "python",
   "name": "python3"
  },
  "language_info": {
   "name": "python",
   "version": "3.11"
  }
 },
 "nbformat": 4,
 "nbformat_minor": 5
}